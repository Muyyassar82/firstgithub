{
 "cells": [
  {
   "cell_type": "markdown",
   "id": "1afa2e23",
   "metadata": {},
   "source": [
    "# Python ka Chilla with baba_ammar\n",
    "## how to use Jupyter Note Book\n",
    "### Basics of Python\n",
    "\"\"01- My first program\"\""
   ]
  },
  {
   "cell_type": "code",
   "execution_count": 1,
   "id": "6bebb51a",
   "metadata": {},
   "outputs": [
    {
     "name": "stdout",
     "output_type": "stream",
     "text": [
      "5\n",
      "Hello World\n",
      " We are learning python with Ammar\n"
     ]
    }
   ],
   "source": [
    "# My_first programme in python\n",
    "print(2+3)\n",
    "print(\"Hello World\")\n",
    "print(\" We are learning python with Ammar\")"
   ]
  },
  {
   "cell_type": "code",
   "execution_count": null,
   "id": "ff5ab3c4",
   "metadata": {},
   "outputs": [],
   "source": [
    "02- "
   ]
  }
 ],
 "metadata": {
  "kernelspec": {
   "display_name": "Python 3 (ipykernel)",
   "language": "python",
   "name": "python3"
  },
  "language_info": {
   "codemirror_mode": {
    "name": "ipython",
    "version": 3
   },
   "file_extension": ".py",
   "mimetype": "text/x-python",
   "name": "python",
   "nbconvert_exporter": "python",
   "pygments_lexer": "ipython3",
   "version": "3.9.7"
  }
 },
 "nbformat": 4,
 "nbformat_minor": 5
}
