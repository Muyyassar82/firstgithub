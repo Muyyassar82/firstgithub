{
 "cells": [
  {
   "cell_type": "markdown",
   "metadata": {},
   "source": [
    "1 # Pandas: tutorial (day 11)\n",
    "2 This notbook explain Pandas lib"
   ]
  },
  {
   "cell_type": "code",
   "execution_count": null,
   "metadata": {},
   "outputs": [],
   "source": []
  },
  {
   "cell_type": "markdown",
   "metadata": {},
   "source": [
    "1- How to install libraries"
   ]
  },
  {
   "cell_type": "code",
   "execution_count": null,
   "metadata": {},
   "outputs": [],
   "source": [
    "1 # pip  install pandas\n",
    "2 # pip install numpy"
   ]
  },
  {
   "cell_type": "markdown",
   "metadata": {},
   "source": [
    "# Import Libraries"
   ]
  },
  {
   "cell_type": "code",
   "execution_count": 10,
   "metadata": {},
   "outputs": [],
   "source": [
    "import pandas as pd\n",
    "import numpy as np"
   ]
  },
  {
   "cell_type": "code",
   "execution_count": 13,
   "metadata": {},
   "outputs": [
    {
     "data": {
      "text/plain": [
       "0    1.0\n",
       "1    3.0\n",
       "2    5.0\n",
       "3    NaN\n",
       "4    7.0\n",
       "5    8.0\n",
       "6    9.0\n",
       "dtype: float64"
      ]
     },
     "execution_count": 13,
     "metadata": {},
     "output_type": "execute_result"
    }
   ],
   "source": [
    "# object create\n",
    "s = pd.Series([1,3,5,np.nan,7,8,9])\n",
    "s"
   ]
  },
  {
   "cell_type": "code",
   "execution_count": 17,
   "metadata": {},
   "outputs": [
    {
     "data": {
      "text/plain": [
       "DatetimeIndex(['2022-01-01', '2022-01-02', '2022-01-03', '2022-01-04',\n",
       "               '2022-01-05', '2022-01-06', '2022-01-07', '2022-01-08',\n",
       "               '2022-01-09', '2022-01-10', '2022-01-11', '2022-01-12',\n",
       "               '2022-01-13', '2022-01-14', '2022-01-15', '2022-01-16',\n",
       "               '2022-01-17', '2022-01-18', '2022-01-19', '2022-01-20'],\n",
       "              dtype='datetime64[ns]', freq='D')"
      ]
     },
     "execution_count": 17,
     "metadata": {},
     "output_type": "execute_result"
    }
   ],
   "source": [
    "dates = pd.date_range(\"20220101\", periods=20)\n",
    "dates"
   ]
  },
  {
   "cell_type": "code",
   "execution_count": 30,
   "metadata": {},
   "outputs": [
    {
     "data": {
      "text/html": [
       "<div>\n",
       "<style scoped>\n",
       "    .dataframe tbody tr th:only-of-type {\n",
       "        vertical-align: middle;\n",
       "    }\n",
       "\n",
       "    .dataframe tbody tr th {\n",
       "        vertical-align: top;\n",
       "    }\n",
       "\n",
       "    .dataframe thead th {\n",
       "        text-align: right;\n",
       "    }\n",
       "</style>\n",
       "<table border=\"1\" class=\"dataframe\">\n",
       "  <thead>\n",
       "    <tr style=\"text-align: right;\">\n",
       "      <th></th>\n",
       "      <th>A</th>\n",
       "      <th>B</th>\n",
       "      <th>C</th>\n",
       "      <th>D</th>\n",
       "    </tr>\n",
       "  </thead>\n",
       "  <tbody>\n",
       "    <tr>\n",
       "      <th>2022-01-01</th>\n",
       "      <td>-0.582858</td>\n",
       "      <td>0.003849</td>\n",
       "      <td>-1.159810</td>\n",
       "      <td>0.619239</td>\n",
       "    </tr>\n",
       "    <tr>\n",
       "      <th>2022-01-02</th>\n",
       "      <td>-0.391342</td>\n",
       "      <td>-2.084955</td>\n",
       "      <td>0.968443</td>\n",
       "      <td>-0.852434</td>\n",
       "    </tr>\n",
       "    <tr>\n",
       "      <th>2022-01-03</th>\n",
       "      <td>-0.194256</td>\n",
       "      <td>0.862808</td>\n",
       "      <td>0.459097</td>\n",
       "      <td>0.109270</td>\n",
       "    </tr>\n",
       "    <tr>\n",
       "      <th>2022-01-04</th>\n",
       "      <td>0.847551</td>\n",
       "      <td>-0.158184</td>\n",
       "      <td>-0.032580</td>\n",
       "      <td>1.559263</td>\n",
       "    </tr>\n",
       "    <tr>\n",
       "      <th>2022-01-05</th>\n",
       "      <td>-1.022700</td>\n",
       "      <td>-0.939458</td>\n",
       "      <td>0.785812</td>\n",
       "      <td>-0.076403</td>\n",
       "    </tr>\n",
       "    <tr>\n",
       "      <th>2022-01-06</th>\n",
       "      <td>-0.194729</td>\n",
       "      <td>-2.234721</td>\n",
       "      <td>-0.197630</td>\n",
       "      <td>-0.754664</td>\n",
       "    </tr>\n",
       "  </tbody>\n",
       "</table>\n",
       "</div>"
      ],
      "text/plain": [
       "                   A         B         C         D\n",
       "2022-01-01 -0.582858  0.003849 -1.159810  0.619239\n",
       "2022-01-02 -0.391342 -2.084955  0.968443 -0.852434\n",
       "2022-01-03 -0.194256  0.862808  0.459097  0.109270\n",
       "2022-01-04  0.847551 -0.158184 -0.032580  1.559263\n",
       "2022-01-05 -1.022700 -0.939458  0.785812 -0.076403\n",
       "2022-01-06 -0.194729 -2.234721 -0.197630 -0.754664"
      ]
     },
     "execution_count": 30,
     "metadata": {},
     "output_type": "execute_result"
    }
   ],
   "source": [
    "dates = pd.date_range(\"20220101\", periods=6)\n",
    "dates\n",
    "df = pd.DataFrame(np.random.randn(6, 4), index=dates, columns=list(\"ABCD\"))\n",
    "df                  "
   ]
  },
  {
   "cell_type": "code",
   "execution_count": 31,
   "metadata": {},
   "outputs": [
    {
     "data": {
      "text/plain": [
       "DatetimeIndex(['2022-01-01', '2022-01-02', '2022-01-03', '2022-01-04',\n",
       "               '2022-01-05', '2022-01-06'],\n",
       "              dtype='datetime64[ns]', freq='D')"
      ]
     },
     "execution_count": 31,
     "metadata": {},
     "output_type": "execute_result"
    }
   ],
   "source": [
    "df.index"
   ]
  },
  {
   "cell_type": "code",
   "execution_count": 32,
   "metadata": {},
   "outputs": [
    {
     "data": {
      "text/plain": [
       "<bound method DataFrame.to_numpy of                    A         B         C         D\n",
       "2022-01-01 -0.582858  0.003849 -1.159810  0.619239\n",
       "2022-01-02 -0.391342 -2.084955  0.968443 -0.852434\n",
       "2022-01-03 -0.194256  0.862808  0.459097  0.109270\n",
       "2022-01-04  0.847551 -0.158184 -0.032580  1.559263\n",
       "2022-01-05 -1.022700 -0.939458  0.785812 -0.076403\n",
       "2022-01-06 -0.194729 -2.234721 -0.197630 -0.754664>"
      ]
     },
     "execution_count": 32,
     "metadata": {},
     "output_type": "execute_result"
    }
   ],
   "source": [
    "df.to_numpy"
   ]
  },
  {
   "cell_type": "code",
   "execution_count": 33,
   "metadata": {},
   "outputs": [
    {
     "data": {
      "text/plain": [
       "<bound method NDFrame.describe of                    A         B         C         D\n",
       "2022-01-01 -0.582858  0.003849 -1.159810  0.619239\n",
       "2022-01-02 -0.391342 -2.084955  0.968443 -0.852434\n",
       "2022-01-03 -0.194256  0.862808  0.459097  0.109270\n",
       "2022-01-04  0.847551 -0.158184 -0.032580  1.559263\n",
       "2022-01-05 -1.022700 -0.939458  0.785812 -0.076403\n",
       "2022-01-06 -0.194729 -2.234721 -0.197630 -0.754664>"
      ]
     },
     "execution_count": 33,
     "metadata": {},
     "output_type": "execute_result"
    }
   ],
   "source": [
    "df.describe"
   ]
  },
  {
   "cell_type": "markdown",
   "metadata": {},
   "source": [
    "# Sorting"
   ]
  },
  {
   "cell_type": "code",
   "execution_count": 37,
   "metadata": {},
   "outputs": [
    {
     "data": {
      "text/html": [
       "<div>\n",
       "<style scoped>\n",
       "    .dataframe tbody tr th:only-of-type {\n",
       "        vertical-align: middle;\n",
       "    }\n",
       "\n",
       "    .dataframe tbody tr th {\n",
       "        vertical-align: top;\n",
       "    }\n",
       "\n",
       "    .dataframe thead th {\n",
       "        text-align: right;\n",
       "    }\n",
       "</style>\n",
       "<table border=\"1\" class=\"dataframe\">\n",
       "  <thead>\n",
       "    <tr style=\"text-align: right;\">\n",
       "      <th></th>\n",
       "      <th>A</th>\n",
       "      <th>B</th>\n",
       "      <th>C</th>\n",
       "      <th>D</th>\n",
       "    </tr>\n",
       "  </thead>\n",
       "  <tbody>\n",
       "    <tr>\n",
       "      <th>2022-01-06</th>\n",
       "      <td>-0.194729</td>\n",
       "      <td>-2.234721</td>\n",
       "      <td>-0.197630</td>\n",
       "      <td>-0.754664</td>\n",
       "    </tr>\n",
       "    <tr>\n",
       "      <th>2022-01-02</th>\n",
       "      <td>-0.391342</td>\n",
       "      <td>-2.084955</td>\n",
       "      <td>0.968443</td>\n",
       "      <td>-0.852434</td>\n",
       "    </tr>\n",
       "    <tr>\n",
       "      <th>2022-01-05</th>\n",
       "      <td>-1.022700</td>\n",
       "      <td>-0.939458</td>\n",
       "      <td>0.785812</td>\n",
       "      <td>-0.076403</td>\n",
       "    </tr>\n",
       "    <tr>\n",
       "      <th>2022-01-04</th>\n",
       "      <td>0.847551</td>\n",
       "      <td>-0.158184</td>\n",
       "      <td>-0.032580</td>\n",
       "      <td>1.559263</td>\n",
       "    </tr>\n",
       "    <tr>\n",
       "      <th>2022-01-01</th>\n",
       "      <td>-0.582858</td>\n",
       "      <td>0.003849</td>\n",
       "      <td>-1.159810</td>\n",
       "      <td>0.619239</td>\n",
       "    </tr>\n",
       "    <tr>\n",
       "      <th>2022-01-03</th>\n",
       "      <td>-0.194256</td>\n",
       "      <td>0.862808</td>\n",
       "      <td>0.459097</td>\n",
       "      <td>0.109270</td>\n",
       "    </tr>\n",
       "  </tbody>\n",
       "</table>\n",
       "</div>"
      ],
      "text/plain": [
       "                   A         B         C         D\n",
       "2022-01-06 -0.194729 -2.234721 -0.197630 -0.754664\n",
       "2022-01-02 -0.391342 -2.084955  0.968443 -0.852434\n",
       "2022-01-05 -1.022700 -0.939458  0.785812 -0.076403\n",
       "2022-01-04  0.847551 -0.158184 -0.032580  1.559263\n",
       "2022-01-01 -0.582858  0.003849 -1.159810  0.619239\n",
       "2022-01-03 -0.194256  0.862808  0.459097  0.109270"
      ]
     },
     "execution_count": 37,
     "metadata": {},
     "output_type": "execute_result"
    }
   ],
   "source": [
    "df.sort_values(by=\"B\" , ascending=True)"
   ]
  },
  {
   "cell_type": "code",
   "execution_count": 38,
   "metadata": {},
   "outputs": [
    {
     "data": {
      "text/plain": [
       "2022-01-01    0.619239\n",
       "2022-01-02   -0.852434\n",
       "2022-01-03    0.109270\n",
       "2022-01-04    1.559263\n",
       "2022-01-05   -0.076403\n",
       "2022-01-06   -0.754664\n",
       "Freq: D, Name: D, dtype: float64"
      ]
     },
     "execution_count": 38,
     "metadata": {},
     "output_type": "execute_result"
    }
   ],
   "source": [
    "df[\"D\"]"
   ]
  },
  {
   "cell_type": "code",
   "execution_count": 40,
   "metadata": {},
   "outputs": [
    {
     "data": {
      "text/html": [
       "<div>\n",
       "<style scoped>\n",
       "    .dataframe tbody tr th:only-of-type {\n",
       "        vertical-align: middle;\n",
       "    }\n",
       "\n",
       "    .dataframe tbody tr th {\n",
       "        vertical-align: top;\n",
       "    }\n",
       "\n",
       "    .dataframe thead th {\n",
       "        text-align: right;\n",
       "    }\n",
       "</style>\n",
       "<table border=\"1\" class=\"dataframe\">\n",
       "  <thead>\n",
       "    <tr style=\"text-align: right;\">\n",
       "      <th></th>\n",
       "      <th>A</th>\n",
       "      <th>B</th>\n",
       "      <th>C</th>\n",
       "      <th>D</th>\n",
       "    </tr>\n",
       "  </thead>\n",
       "  <tbody>\n",
       "    <tr>\n",
       "      <th>2022-01-01</th>\n",
       "      <td>-0.582858</td>\n",
       "      <td>0.003849</td>\n",
       "      <td>-1.159810</td>\n",
       "      <td>0.619239</td>\n",
       "    </tr>\n",
       "    <tr>\n",
       "      <th>2022-01-02</th>\n",
       "      <td>-0.391342</td>\n",
       "      <td>-2.084955</td>\n",
       "      <td>0.968443</td>\n",
       "      <td>-0.852434</td>\n",
       "    </tr>\n",
       "  </tbody>\n",
       "</table>\n",
       "</div>"
      ],
      "text/plain": [
       "                   A         B         C         D\n",
       "2022-01-01 -0.582858  0.003849 -1.159810  0.619239\n",
       "2022-01-02 -0.391342 -2.084955  0.968443 -0.852434"
      ]
     },
     "execution_count": 40,
     "metadata": {},
     "output_type": "execute_result"
    }
   ],
   "source": [
    "# Row wise selection\n",
    "df[0:2]"
   ]
  },
  {
   "cell_type": "code",
   "execution_count": 43,
   "metadata": {},
   "outputs": [
    {
     "data": {
      "text/plain": [
       "A   -0.194256\n",
       "B    0.862808\n",
       "C    0.459097\n",
       "D    0.109270\n",
       "Name: 2022-01-03 00:00:00, dtype: float64"
      ]
     },
     "execution_count": 43,
     "metadata": {},
     "output_type": "execute_result"
    }
   ],
   "source": [
    "df.loc[dates[2]]"
   ]
  },
  {
   "cell_type": "code",
   "execution_count": 45,
   "metadata": {},
   "outputs": [
    {
     "data": {
      "text/html": [
       "<div>\n",
       "<style scoped>\n",
       "    .dataframe tbody tr th:only-of-type {\n",
       "        vertical-align: middle;\n",
       "    }\n",
       "\n",
       "    .dataframe tbody tr th {\n",
       "        vertical-align: top;\n",
       "    }\n",
       "\n",
       "    .dataframe thead th {\n",
       "        text-align: right;\n",
       "    }\n",
       "</style>\n",
       "<table border=\"1\" class=\"dataframe\">\n",
       "  <thead>\n",
       "    <tr style=\"text-align: right;\">\n",
       "      <th></th>\n",
       "      <th>A</th>\n",
       "      <th>B</th>\n",
       "    </tr>\n",
       "  </thead>\n",
       "  <tbody>\n",
       "    <tr>\n",
       "      <th>2022-01-01</th>\n",
       "      <td>-0.582858</td>\n",
       "      <td>0.003849</td>\n",
       "    </tr>\n",
       "    <tr>\n",
       "      <th>2022-01-02</th>\n",
       "      <td>-0.391342</td>\n",
       "      <td>-2.084955</td>\n",
       "    </tr>\n",
       "    <tr>\n",
       "      <th>2022-01-03</th>\n",
       "      <td>-0.194256</td>\n",
       "      <td>0.862808</td>\n",
       "    </tr>\n",
       "    <tr>\n",
       "      <th>2022-01-04</th>\n",
       "      <td>0.847551</td>\n",
       "      <td>-0.158184</td>\n",
       "    </tr>\n",
       "    <tr>\n",
       "      <th>2022-01-05</th>\n",
       "      <td>-1.022700</td>\n",
       "      <td>-0.939458</td>\n",
       "    </tr>\n",
       "    <tr>\n",
       "      <th>2022-01-06</th>\n",
       "      <td>-0.194729</td>\n",
       "      <td>-2.234721</td>\n",
       "    </tr>\n",
       "  </tbody>\n",
       "</table>\n",
       "</div>"
      ],
      "text/plain": [
       "                   A         B\n",
       "2022-01-01 -0.582858  0.003849\n",
       "2022-01-02 -0.391342 -2.084955\n",
       "2022-01-03 -0.194256  0.862808\n",
       "2022-01-04  0.847551 -0.158184\n",
       "2022-01-05 -1.022700 -0.939458\n",
       "2022-01-06 -0.194729 -2.234721"
      ]
     },
     "execution_count": 45,
     "metadata": {},
     "output_type": "execute_result"
    }
   ],
   "source": [
    "df.loc[:,[\"A\", \"B\"]]"
   ]
  },
  {
   "cell_type": "code",
   "execution_count": 52,
   "metadata": {},
   "outputs": [
    {
     "data": {
      "text/plain": [
       "A   -0.194729\n",
       "B   -2.234721\n",
       "C   -0.197630\n",
       "D   -0.754664\n",
       "Name: 2022-01-06 00:00:00, dtype: float64"
      ]
     },
     "execution_count": 52,
     "metadata": {},
     "output_type": "execute_result"
    }
   ],
   "source": [
    "df.loc[dates[5]]"
   ]
  },
  {
   "cell_type": "code",
   "execution_count": 53,
   "metadata": {},
   "outputs": [
    {
     "data": {
      "text/html": [
       "<div>\n",
       "<style scoped>\n",
       "    .dataframe tbody tr th:only-of-type {\n",
       "        vertical-align: middle;\n",
       "    }\n",
       "\n",
       "    .dataframe tbody tr th {\n",
       "        vertical-align: top;\n",
       "    }\n",
       "\n",
       "    .dataframe thead th {\n",
       "        text-align: right;\n",
       "    }\n",
       "</style>\n",
       "<table border=\"1\" class=\"dataframe\">\n",
       "  <thead>\n",
       "    <tr style=\"text-align: right;\">\n",
       "      <th></th>\n",
       "      <th>A</th>\n",
       "      <th>B</th>\n",
       "    </tr>\n",
       "  </thead>\n",
       "  <tbody>\n",
       "    <tr>\n",
       "      <th>2022-01-01</th>\n",
       "      <td>-0.582858</td>\n",
       "      <td>0.003849</td>\n",
       "    </tr>\n",
       "    <tr>\n",
       "      <th>2022-01-02</th>\n",
       "      <td>-0.391342</td>\n",
       "      <td>-2.084955</td>\n",
       "    </tr>\n",
       "    <tr>\n",
       "      <th>2022-01-03</th>\n",
       "      <td>-0.194256</td>\n",
       "      <td>0.862808</td>\n",
       "    </tr>\n",
       "    <tr>\n",
       "      <th>2022-01-04</th>\n",
       "      <td>0.847551</td>\n",
       "      <td>-0.158184</td>\n",
       "    </tr>\n",
       "    <tr>\n",
       "      <th>2022-01-05</th>\n",
       "      <td>-1.022700</td>\n",
       "      <td>-0.939458</td>\n",
       "    </tr>\n",
       "    <tr>\n",
       "      <th>2022-01-06</th>\n",
       "      <td>-0.194729</td>\n",
       "      <td>-2.234721</td>\n",
       "    </tr>\n",
       "  </tbody>\n",
       "</table>\n",
       "</div>"
      ],
      "text/plain": [
       "                   A         B\n",
       "2022-01-01 -0.582858  0.003849\n",
       "2022-01-02 -0.391342 -2.084955\n",
       "2022-01-03 -0.194256  0.862808\n",
       "2022-01-04  0.847551 -0.158184\n",
       "2022-01-05 -1.022700 -0.939458\n",
       "2022-01-06 -0.194729 -2.234721"
      ]
     },
     "execution_count": 53,
     "metadata": {},
     "output_type": "execute_result"
    }
   ],
   "source": [
    "df.loc[:,[\"A\", \"B\"]]"
   ]
  },
  {
   "cell_type": "code",
   "execution_count": 55,
   "metadata": {},
   "outputs": [
    {
     "data": {
      "text/plain": [
       "A   -0.194729\n",
       "B   -2.234721\n",
       "C   -0.197630\n",
       "D   -0.754664\n",
       "Name: 2022-01-06 00:00:00, dtype: float64"
      ]
     },
     "execution_count": 55,
     "metadata": {},
     "output_type": "execute_result"
    }
   ],
   "source": [
    "df.loc[dates[5]]"
   ]
  },
  {
   "cell_type": "code",
   "execution_count": 56,
   "metadata": {},
   "outputs": [
    {
     "data": {
      "text/html": [
       "<div>\n",
       "<style scoped>\n",
       "    .dataframe tbody tr th:only-of-type {\n",
       "        vertical-align: middle;\n",
       "    }\n",
       "\n",
       "    .dataframe tbody tr th {\n",
       "        vertical-align: top;\n",
       "    }\n",
       "\n",
       "    .dataframe thead th {\n",
       "        text-align: right;\n",
       "    }\n",
       "</style>\n",
       "<table border=\"1\" class=\"dataframe\">\n",
       "  <thead>\n",
       "    <tr style=\"text-align: right;\">\n",
       "      <th></th>\n",
       "      <th>A</th>\n",
       "      <th>B</th>\n",
       "    </tr>\n",
       "  </thead>\n",
       "  <tbody>\n",
       "    <tr>\n",
       "      <th>2022-01-02</th>\n",
       "      <td>-0.391342</td>\n",
       "      <td>-2.084955</td>\n",
       "    </tr>\n",
       "    <tr>\n",
       "      <th>2022-01-03</th>\n",
       "      <td>-0.194256</td>\n",
       "      <td>0.862808</td>\n",
       "    </tr>\n",
       "    <tr>\n",
       "      <th>2022-01-04</th>\n",
       "      <td>0.847551</td>\n",
       "      <td>-0.158184</td>\n",
       "    </tr>\n",
       "  </tbody>\n",
       "</table>\n",
       "</div>"
      ],
      "text/plain": [
       "                   A         B\n",
       "2022-01-02 -0.391342 -2.084955\n",
       "2022-01-03 -0.194256  0.862808\n",
       "2022-01-04  0.847551 -0.158184"
      ]
     },
     "execution_count": 56,
     "metadata": {},
     "output_type": "execute_result"
    }
   ],
   "source": [
    "df.loc[\"20220102\":\"20220104\",[\"A\", \"B\"]]"
   ]
  },
  {
   "cell_type": "code",
   "execution_count": 59,
   "metadata": {},
   "outputs": [
    {
     "data": {
      "text/html": [
       "<div>\n",
       "<style scoped>\n",
       "    .dataframe tbody tr th:only-of-type {\n",
       "        vertical-align: middle;\n",
       "    }\n",
       "\n",
       "    .dataframe tbody tr th {\n",
       "        vertical-align: top;\n",
       "    }\n",
       "\n",
       "    .dataframe thead th {\n",
       "        text-align: right;\n",
       "    }\n",
       "</style>\n",
       "<table border=\"1\" class=\"dataframe\">\n",
       "  <thead>\n",
       "    <tr style=\"text-align: right;\">\n",
       "      <th></th>\n",
       "      <th>A</th>\n",
       "      <th>B</th>\n",
       "      <th>C</th>\n",
       "    </tr>\n",
       "  </thead>\n",
       "  <tbody>\n",
       "    <tr>\n",
       "      <th>2022-01-02</th>\n",
       "      <td>-0.391342</td>\n",
       "      <td>-2.084955</td>\n",
       "      <td>0.968443</td>\n",
       "    </tr>\n",
       "    <tr>\n",
       "      <th>2022-01-03</th>\n",
       "      <td>-0.194256</td>\n",
       "      <td>0.862808</td>\n",
       "      <td>0.459097</td>\n",
       "    </tr>\n",
       "    <tr>\n",
       "      <th>2022-01-04</th>\n",
       "      <td>0.847551</td>\n",
       "      <td>-0.158184</td>\n",
       "      <td>-0.032580</td>\n",
       "    </tr>\n",
       "  </tbody>\n",
       "</table>\n",
       "</div>"
      ],
      "text/plain": [
       "                   A         B         C\n",
       "2022-01-02 -0.391342 -2.084955  0.968443\n",
       "2022-01-03 -0.194256  0.862808  0.459097\n",
       "2022-01-04  0.847551 -0.158184 -0.032580"
      ]
     },
     "execution_count": 59,
     "metadata": {},
     "output_type": "execute_result"
    }
   ],
   "source": [
    "df.loc[\"20220102\":\"20220104\",[\"A\", \"B\",\"C\"]]"
   ]
  },
  {
   "cell_type": "code",
   "execution_count": 60,
   "metadata": {},
   "outputs": [
    {
     "data": {
      "text/plain": [
       "A   -0.391342\n",
       "B   -2.084955\n",
       "C    0.968443\n",
       "Name: 2022-01-02 00:00:00, dtype: float64"
      ]
     },
     "execution_count": 60,
     "metadata": {},
     "output_type": "execute_result"
    }
   ],
   "source": [
    "df.loc[\"20220102\",[\"A\", \"B\",\"C\"]]"
   ]
  },
  {
   "cell_type": "markdown",
   "metadata": {},
   "source": [
    "# The codes can be accessed using below link\n",
    "# https://stackoverflow.com/questions/53903889/logic-behind-pandas-loc-selecting-values"
   ]
  },
  {
   "cell_type": "code",
   "execution_count": 63,
   "metadata": {},
   "outputs": [
    {
     "data": {
      "text/plain": [
       "-0.5828584608597441"
      ]
     },
     "execution_count": 63,
     "metadata": {},
     "output_type": "execute_result"
    }
   ],
   "source": [
    "df.at[dates[0],\"A\"]"
   ]
  },
  {
   "cell_type": "code",
   "execution_count": 64,
   "metadata": {},
   "outputs": [
    {
     "data": {
      "text/plain": [
       "-0.194728905546206"
      ]
     },
     "execution_count": 64,
     "metadata": {},
     "output_type": "execute_result"
    }
   ],
   "source": [
    "df.at[dates[5],\"A\"]"
   ]
  },
  {
   "cell_type": "code",
   "execution_count": 65,
   "metadata": {},
   "outputs": [
    {
     "data": {
      "text/plain": [
       "A    0.847551\n",
       "B   -0.158184\n",
       "C   -0.032580\n",
       "D    1.559263\n",
       "Name: 2022-01-04 00:00:00, dtype: float64"
      ]
     },
     "execution_count": 65,
     "metadata": {},
     "output_type": "execute_result"
    }
   ],
   "source": [
    "df.iloc333[3]"
   ]
  },
  {
   "cell_type": "code",
   "execution_count": 69,
   "metadata": {},
   "outputs": [
    {
     "data": {
      "text/html": [
       "<div>\n",
       "<style scoped>\n",
       "    .dataframe tbody tr th:only-of-type {\n",
       "        vertical-align: middle;\n",
       "    }\n",
       "\n",
       "    .dataframe tbody tr th {\n",
       "        vertical-align: top;\n",
       "    }\n",
       "\n",
       "    .dataframe thead th {\n",
       "        text-align: right;\n",
       "    }\n",
       "</style>\n",
       "<table border=\"1\" class=\"dataframe\">\n",
       "  <thead>\n",
       "    <tr style=\"text-align: right;\">\n",
       "      <th></th>\n",
       "      <th>D</th>\n",
       "    </tr>\n",
       "  </thead>\n",
       "  <tbody>\n",
       "    <tr>\n",
       "      <th>2022-01-01</th>\n",
       "      <td>0.619239</td>\n",
       "    </tr>\n",
       "    <tr>\n",
       "      <th>2022-01-02</th>\n",
       "      <td>-0.852434</td>\n",
       "    </tr>\n",
       "  </tbody>\n",
       "</table>\n",
       "</div>"
      ],
      "text/plain": [
       "                   D\n",
       "2022-01-01  0.619239\n",
       "2022-01-02 -0.852434"
      ]
     },
     "execution_count": 69,
     "metadata": {},
     "output_type": "execute_result"
    }
   ],
   "source": [
    "df.iloc[0:2, 3:4]"
   ]
  },
  {
   "cell_type": "code",
   "execution_count": 70,
   "metadata": {},
   "outputs": [
    {
     "data": {
      "text/html": [
       "<div>\n",
       "<style scoped>\n",
       "    .dataframe tbody tr th:only-of-type {\n",
       "        vertical-align: middle;\n",
       "    }\n",
       "\n",
       "    .dataframe tbody tr th {\n",
       "        vertical-align: top;\n",
       "    }\n",
       "\n",
       "    .dataframe thead th {\n",
       "        text-align: right;\n",
       "    }\n",
       "</style>\n",
       "<table border=\"1\" class=\"dataframe\">\n",
       "  <thead>\n",
       "    <tr style=\"text-align: right;\">\n",
       "      <th></th>\n",
       "      <th>A</th>\n",
       "      <th>B</th>\n",
       "    </tr>\n",
       "  </thead>\n",
       "  <tbody>\n",
       "    <tr>\n",
       "      <th>2022-01-01</th>\n",
       "      <td>-0.582858</td>\n",
       "      <td>0.003849</td>\n",
       "    </tr>\n",
       "    <tr>\n",
       "      <th>2022-01-02</th>\n",
       "      <td>-0.391342</td>\n",
       "      <td>-2.084955</td>\n",
       "    </tr>\n",
       "    <tr>\n",
       "      <th>2022-01-03</th>\n",
       "      <td>-0.194256</td>\n",
       "      <td>0.862808</td>\n",
       "    </tr>\n",
       "    <tr>\n",
       "      <th>2022-01-04</th>\n",
       "      <td>0.847551</td>\n",
       "      <td>-0.158184</td>\n",
       "    </tr>\n",
       "    <tr>\n",
       "      <th>2022-01-05</th>\n",
       "      <td>-1.022700</td>\n",
       "      <td>-0.939458</td>\n",
       "    </tr>\n",
       "    <tr>\n",
       "      <th>2022-01-06</th>\n",
       "      <td>-0.194729</td>\n",
       "      <td>-2.234721</td>\n",
       "    </tr>\n",
       "  </tbody>\n",
       "</table>\n",
       "</div>"
      ],
      "text/plain": [
       "                   A         B\n",
       "2022-01-01 -0.582858  0.003849\n",
       "2022-01-02 -0.391342 -2.084955\n",
       "2022-01-03 -0.194256  0.862808\n",
       "2022-01-04  0.847551 -0.158184\n",
       "2022-01-05 -1.022700 -0.939458\n",
       "2022-01-06 -0.194729 -2.234721"
      ]
     },
     "execution_count": 70,
     "metadata": {},
     "output_type": "execute_result"
    }
   ],
   "source": [
    "df.iloc[:, 0:2]"
   ]
  },
  {
   "cell_type": "markdown",
   "metadata": {},
   "source": [
    "# Bolian"
   ]
  },
  {
   "cell_type": "code",
   "execution_count": 71,
   "metadata": {},
   "outputs": [
    {
     "data": {
      "text/html": [
       "<div>\n",
       "<style scoped>\n",
       "    .dataframe tbody tr th:only-of-type {\n",
       "        vertical-align: middle;\n",
       "    }\n",
       "\n",
       "    .dataframe tbody tr th {\n",
       "        vertical-align: top;\n",
       "    }\n",
       "\n",
       "    .dataframe thead th {\n",
       "        text-align: right;\n",
       "    }\n",
       "</style>\n",
       "<table border=\"1\" class=\"dataframe\">\n",
       "  <thead>\n",
       "    <tr style=\"text-align: right;\">\n",
       "      <th></th>\n",
       "      <th>A</th>\n",
       "      <th>B</th>\n",
       "      <th>C</th>\n",
       "      <th>D</th>\n",
       "    </tr>\n",
       "  </thead>\n",
       "  <tbody>\n",
       "    <tr>\n",
       "      <th>2022-01-04</th>\n",
       "      <td>0.847551</td>\n",
       "      <td>-0.158184</td>\n",
       "      <td>-0.03258</td>\n",
       "      <td>1.559263</td>\n",
       "    </tr>\n",
       "  </tbody>\n",
       "</table>\n",
       "</div>"
      ],
      "text/plain": [
       "                   A         B        C         D\n",
       "2022-01-04  0.847551 -0.158184 -0.03258  1.559263"
      ]
     },
     "execution_count": 71,
     "metadata": {},
     "output_type": "execute_result"
    }
   ],
   "source": [
    "df [df[\"A\"] > 0]"
   ]
  },
  {
   "cell_type": "code",
   "execution_count": 72,
   "metadata": {},
   "outputs": [
    {
     "data": {
      "text/html": [
       "<div>\n",
       "<style scoped>\n",
       "    .dataframe tbody tr th:only-of-type {\n",
       "        vertical-align: middle;\n",
       "    }\n",
       "\n",
       "    .dataframe tbody tr th {\n",
       "        vertical-align: top;\n",
       "    }\n",
       "\n",
       "    .dataframe thead th {\n",
       "        text-align: right;\n",
       "    }\n",
       "</style>\n",
       "<table border=\"1\" class=\"dataframe\">\n",
       "  <thead>\n",
       "    <tr style=\"text-align: right;\">\n",
       "      <th></th>\n",
       "      <th>A</th>\n",
       "      <th>B</th>\n",
       "      <th>C</th>\n",
       "      <th>D</th>\n",
       "    </tr>\n",
       "  </thead>\n",
       "  <tbody>\n",
       "    <tr>\n",
       "      <th>2022-01-01</th>\n",
       "      <td>-0.582858</td>\n",
       "      <td>0.003849</td>\n",
       "      <td>-1.159810</td>\n",
       "      <td>0.619239</td>\n",
       "    </tr>\n",
       "    <tr>\n",
       "      <th>2022-01-03</th>\n",
       "      <td>-0.194256</td>\n",
       "      <td>0.862808</td>\n",
       "      <td>0.459097</td>\n",
       "      <td>0.109270</td>\n",
       "    </tr>\n",
       "  </tbody>\n",
       "</table>\n",
       "</div>"
      ],
      "text/plain": [
       "                   A         B         C         D\n",
       "2022-01-01 -0.582858  0.003849 -1.159810  0.619239\n",
       "2022-01-03 -0.194256  0.862808  0.459097  0.109270"
      ]
     },
     "execution_count": 72,
     "metadata": {},
     "output_type": "execute_result"
    }
   ],
   "source": [
    "df [df[\"B\"] > 0]"
   ]
  },
  {
   "cell_type": "code",
   "execution_count": 73,
   "metadata": {},
   "outputs": [
    {
     "data": {
      "text/html": [
       "<div>\n",
       "<style scoped>\n",
       "    .dataframe tbody tr th:only-of-type {\n",
       "        vertical-align: middle;\n",
       "    }\n",
       "\n",
       "    .dataframe tbody tr th {\n",
       "        vertical-align: top;\n",
       "    }\n",
       "\n",
       "    .dataframe thead th {\n",
       "        text-align: right;\n",
       "    }\n",
       "</style>\n",
       "<table border=\"1\" class=\"dataframe\">\n",
       "  <thead>\n",
       "    <tr style=\"text-align: right;\">\n",
       "      <th></th>\n",
       "      <th>A</th>\n",
       "      <th>B</th>\n",
       "      <th>C</th>\n",
       "      <th>D</th>\n",
       "    </tr>\n",
       "  </thead>\n",
       "  <tbody>\n",
       "  </tbody>\n",
       "</table>\n",
       "</div>"
      ],
      "text/plain": [
       "Empty DataFrame\n",
       "Columns: [A, B, C, D]\n",
       "Index: []"
      ]
     },
     "execution_count": 73,
     "metadata": {},
     "output_type": "execute_result"
    }
   ],
   "source": [
    "df [df[\"B\"] > 1]"
   ]
  },
  {
   "cell_type": "code",
   "execution_count": 74,
   "metadata": {},
   "outputs": [
    {
     "data": {
      "text/html": [
       "<div>\n",
       "<style scoped>\n",
       "    .dataframe tbody tr th:only-of-type {\n",
       "        vertical-align: middle;\n",
       "    }\n",
       "\n",
       "    .dataframe tbody tr th {\n",
       "        vertical-align: top;\n",
       "    }\n",
       "\n",
       "    .dataframe thead th {\n",
       "        text-align: right;\n",
       "    }\n",
       "</style>\n",
       "<table border=\"1\" class=\"dataframe\">\n",
       "  <thead>\n",
       "    <tr style=\"text-align: right;\">\n",
       "      <th></th>\n",
       "      <th>A</th>\n",
       "      <th>B</th>\n",
       "      <th>C</th>\n",
       "      <th>D</th>\n",
       "    </tr>\n",
       "  </thead>\n",
       "  <tbody>\n",
       "    <tr>\n",
       "      <th>2022-01-01</th>\n",
       "      <td>NaN</td>\n",
       "      <td>0.003849</td>\n",
       "      <td>NaN</td>\n",
       "      <td>0.619239</td>\n",
       "    </tr>\n",
       "    <tr>\n",
       "      <th>2022-01-02</th>\n",
       "      <td>NaN</td>\n",
       "      <td>NaN</td>\n",
       "      <td>0.968443</td>\n",
       "      <td>NaN</td>\n",
       "    </tr>\n",
       "    <tr>\n",
       "      <th>2022-01-03</th>\n",
       "      <td>NaN</td>\n",
       "      <td>0.862808</td>\n",
       "      <td>0.459097</td>\n",
       "      <td>0.109270</td>\n",
       "    </tr>\n",
       "    <tr>\n",
       "      <th>2022-01-04</th>\n",
       "      <td>0.847551</td>\n",
       "      <td>NaN</td>\n",
       "      <td>NaN</td>\n",
       "      <td>1.559263</td>\n",
       "    </tr>\n",
       "    <tr>\n",
       "      <th>2022-01-05</th>\n",
       "      <td>NaN</td>\n",
       "      <td>NaN</td>\n",
       "      <td>0.785812</td>\n",
       "      <td>NaN</td>\n",
       "    </tr>\n",
       "    <tr>\n",
       "      <th>2022-01-06</th>\n",
       "      <td>NaN</td>\n",
       "      <td>NaN</td>\n",
       "      <td>NaN</td>\n",
       "      <td>NaN</td>\n",
       "    </tr>\n",
       "  </tbody>\n",
       "</table>\n",
       "</div>"
      ],
      "text/plain": [
       "                   A         B         C         D\n",
       "2022-01-01       NaN  0.003849       NaN  0.619239\n",
       "2022-01-02       NaN       NaN  0.968443       NaN\n",
       "2022-01-03       NaN  0.862808  0.459097  0.109270\n",
       "2022-01-04  0.847551       NaN       NaN  1.559263\n",
       "2022-01-05       NaN       NaN  0.785812       NaN\n",
       "2022-01-06       NaN       NaN       NaN       NaN"
      ]
     },
     "execution_count": 74,
     "metadata": {},
     "output_type": "execute_result"
    }
   ],
   "source": [
    "df [df > 0]"
   ]
  },
  {
   "cell_type": "code",
   "execution_count": 79,
   "metadata": {},
   "outputs": [],
   "source": [
    "df2 =df.copy()"
   ]
  },
  {
   "cell_type": "code",
   "execution_count": 85,
   "metadata": {},
   "outputs": [],
   "source": [
    "df2[\"E\"] = [ \"one\", \"one\" , \"two\", \"three\", \"four\",\"one\"]"
   ]
  },
  {
   "cell_type": "code",
   "execution_count": 81,
   "metadata": {},
   "outputs": [
    {
     "data": {
      "text/plain": [
       "(6, 4)"
      ]
     },
     "execution_count": 81,
     "metadata": {},
     "output_type": "execute_result"
    }
   ],
   "source": [
    "df2.shape"
   ]
  },
  {
   "cell_type": "code",
   "execution_count": 83,
   "metadata": {},
   "outputs": [
    {
     "data": {
      "text/html": [
       "<div>\n",
       "<style scoped>\n",
       "    .dataframe tbody tr th:only-of-type {\n",
       "        vertical-align: middle;\n",
       "    }\n",
       "\n",
       "    .dataframe tbody tr th {\n",
       "        vertical-align: top;\n",
       "    }\n",
       "\n",
       "    .dataframe thead th {\n",
       "        text-align: right;\n",
       "    }\n",
       "</style>\n",
       "<table border=\"1\" class=\"dataframe\">\n",
       "  <thead>\n",
       "    <tr style=\"text-align: right;\">\n",
       "      <th></th>\n",
       "      <th>A</th>\n",
       "      <th>B</th>\n",
       "      <th>C</th>\n",
       "      <th>D</th>\n",
       "      <th>E</th>\n",
       "    </tr>\n",
       "  </thead>\n",
       "  <tbody>\n",
       "    <tr>\n",
       "      <th>2022-01-01</th>\n",
       "      <td>-0.582858</td>\n",
       "      <td>0.003849</td>\n",
       "      <td>-1.159810</td>\n",
       "      <td>0.619239</td>\n",
       "      <td>one</td>\n",
       "    </tr>\n",
       "    <tr>\n",
       "      <th>2022-01-02</th>\n",
       "      <td>-0.391342</td>\n",
       "      <td>-2.084955</td>\n",
       "      <td>0.968443</td>\n",
       "      <td>-0.852434</td>\n",
       "      <td>one</td>\n",
       "    </tr>\n",
       "    <tr>\n",
       "      <th>2022-01-03</th>\n",
       "      <td>-0.194256</td>\n",
       "      <td>0.862808</td>\n",
       "      <td>0.459097</td>\n",
       "      <td>0.109270</td>\n",
       "      <td>two</td>\n",
       "    </tr>\n",
       "    <tr>\n",
       "      <th>2022-01-04</th>\n",
       "      <td>0.847551</td>\n",
       "      <td>-0.158184</td>\n",
       "      <td>-0.032580</td>\n",
       "      <td>1.559263</td>\n",
       "      <td>three</td>\n",
       "    </tr>\n",
       "    <tr>\n",
       "      <th>2022-01-05</th>\n",
       "      <td>-1.022700</td>\n",
       "      <td>-0.939458</td>\n",
       "      <td>0.785812</td>\n",
       "      <td>-0.076403</td>\n",
       "      <td>four</td>\n",
       "    </tr>\n",
       "    <tr>\n",
       "      <th>2022-01-06</th>\n",
       "      <td>-0.194729</td>\n",
       "      <td>-2.234721</td>\n",
       "      <td>-0.197630</td>\n",
       "      <td>-0.754664</td>\n",
       "      <td>three</td>\n",
       "    </tr>\n",
       "  </tbody>\n",
       "</table>\n",
       "</div>"
      ],
      "text/plain": [
       "                   A         B         C         D      E\n",
       "2022-01-01 -0.582858  0.003849 -1.159810  0.619239    one\n",
       "2022-01-02 -0.391342 -2.084955  0.968443 -0.852434    one\n",
       "2022-01-03 -0.194256  0.862808  0.459097  0.109270    two\n",
       "2022-01-04  0.847551 -0.158184 -0.032580  1.559263  three\n",
       "2022-01-05 -1.022700 -0.939458  0.785812 -0.076403   four\n",
       "2022-01-06 -0.194729 -2.234721 -0.197630 -0.754664  three"
      ]
     },
     "execution_count": 83,
     "metadata": {},
     "output_type": "execute_result"
    }
   ],
   "source": [
    "df2"
   ]
  },
  {
   "cell_type": "code",
   "execution_count": 89,
   "metadata": {},
   "outputs": [
    {
     "data": {
      "text/html": [
       "<div>\n",
       "<style scoped>\n",
       "    .dataframe tbody tr th:only-of-type {\n",
       "        vertical-align: middle;\n",
       "    }\n",
       "\n",
       "    .dataframe tbody tr th {\n",
       "        vertical-align: top;\n",
       "    }\n",
       "\n",
       "    .dataframe thead th {\n",
       "        text-align: right;\n",
       "    }\n",
       "</style>\n",
       "<table border=\"1\" class=\"dataframe\">\n",
       "  <thead>\n",
       "    <tr style=\"text-align: right;\">\n",
       "      <th></th>\n",
       "      <th>A</th>\n",
       "      <th>B</th>\n",
       "      <th>C</th>\n",
       "      <th>D</th>\n",
       "      <th>E</th>\n",
       "      <th>mean</th>\n",
       "      <th>new</th>\n",
       "    </tr>\n",
       "  </thead>\n",
       "  <tbody>\n",
       "    <tr>\n",
       "      <th>2022-01-01</th>\n",
       "      <td>-0.582858</td>\n",
       "      <td>0.003849</td>\n",
       "      <td>-1.159810</td>\n",
       "      <td>0.619239</td>\n",
       "      <td>one</td>\n",
       "      <td>1.2</td>\n",
       "      <td>1.2</td>\n",
       "    </tr>\n",
       "    <tr>\n",
       "      <th>2022-01-02</th>\n",
       "      <td>-0.391342</td>\n",
       "      <td>-2.084955</td>\n",
       "      <td>0.968443</td>\n",
       "      <td>-0.852434</td>\n",
       "      <td>one</td>\n",
       "      <td>2.2</td>\n",
       "      <td>2.2</td>\n",
       "    </tr>\n",
       "    <tr>\n",
       "      <th>2022-01-03</th>\n",
       "      <td>-0.194256</td>\n",
       "      <td>0.862808</td>\n",
       "      <td>0.459097</td>\n",
       "      <td>0.109270</td>\n",
       "      <td>two</td>\n",
       "      <td>2.3</td>\n",
       "      <td>2.3</td>\n",
       "    </tr>\n",
       "    <tr>\n",
       "      <th>2022-01-04</th>\n",
       "      <td>0.847551</td>\n",
       "      <td>-0.158184</td>\n",
       "      <td>-0.032580</td>\n",
       "      <td>1.559263</td>\n",
       "      <td>three</td>\n",
       "      <td>3.3</td>\n",
       "      <td>3.3</td>\n",
       "    </tr>\n",
       "    <tr>\n",
       "      <th>2022-01-05</th>\n",
       "      <td>-1.022700</td>\n",
       "      <td>-0.939458</td>\n",
       "      <td>0.785812</td>\n",
       "      <td>-0.076403</td>\n",
       "      <td>four</td>\n",
       "      <td>3.4</td>\n",
       "      <td>3.4</td>\n",
       "    </tr>\n",
       "    <tr>\n",
       "      <th>2022-01-06</th>\n",
       "      <td>-0.194729</td>\n",
       "      <td>-2.234721</td>\n",
       "      <td>-0.197630</td>\n",
       "      <td>-0.754664</td>\n",
       "      <td>one</td>\n",
       "      <td>3.5</td>\n",
       "      <td>3.5</td>\n",
       "    </tr>\n",
       "  </tbody>\n",
       "</table>\n",
       "</div>"
      ],
      "text/plain": [
       "                   A         B         C         D      E  mean  new\n",
       "2022-01-01 -0.582858  0.003849 -1.159810  0.619239    one   1.2  1.2\n",
       "2022-01-02 -0.391342 -2.084955  0.968443 -0.852434    one   2.2  2.2\n",
       "2022-01-03 -0.194256  0.862808  0.459097  0.109270    two   2.3  2.3\n",
       "2022-01-04  0.847551 -0.158184 -0.032580  1.559263  three   3.3  3.3\n",
       "2022-01-05 -1.022700 -0.939458  0.785812 -0.076403   four   3.4  3.4\n",
       "2022-01-06 -0.194729 -2.234721 -0.197630 -0.754664    one   3.5  3.5"
      ]
     },
     "execution_count": 89,
     "metadata": {},
     "output_type": "execute_result"
    }
   ],
   "source": [
    "df2 [\"new\"]=[1.2,2.2,2.3,3.3,3.4,3.5]\n",
    "df2"
   ]
  },
  {
   "cell_type": "code",
   "execution_count": 91,
   "metadata": {},
   "outputs": [
    {
     "data": {
      "text/plain": [
       "2022-01-01    1.2\n",
       "2022-01-02    2.2\n",
       "2022-01-03    2.3\n",
       "2022-01-04    3.3\n",
       "2022-01-05    3.4\n",
       "2022-01-06    3.5\n",
       "Freq: D, Name: mean, dtype: float64"
      ]
     },
     "execution_count": 91,
     "metadata": {},
     "output_type": "execute_result"
    }
   ],
   "source": [
    "df2[\"mean\"]"
   ]
  },
  {
   "cell_type": "code",
   "execution_count": 92,
   "metadata": {},
   "outputs": [
    {
     "data": {
      "text/html": [
       "<div>\n",
       "<style scoped>\n",
       "    .dataframe tbody tr th:only-of-type {\n",
       "        vertical-align: middle;\n",
       "    }\n",
       "\n",
       "    .dataframe tbody tr th {\n",
       "        vertical-align: top;\n",
       "    }\n",
       "\n",
       "    .dataframe thead th {\n",
       "        text-align: right;\n",
       "    }\n",
       "</style>\n",
       "<table border=\"1\" class=\"dataframe\">\n",
       "  <thead>\n",
       "    <tr style=\"text-align: right;\">\n",
       "      <th></th>\n",
       "      <th>A</th>\n",
       "      <th>B</th>\n",
       "      <th>C</th>\n",
       "      <th>D</th>\n",
       "      <th>E</th>\n",
       "      <th>new</th>\n",
       "    </tr>\n",
       "  </thead>\n",
       "  <tbody>\n",
       "    <tr>\n",
       "      <th>2022-01-01</th>\n",
       "      <td>-0.582858</td>\n",
       "      <td>0.003849</td>\n",
       "      <td>-1.159810</td>\n",
       "      <td>0.619239</td>\n",
       "      <td>one</td>\n",
       "      <td>1.2</td>\n",
       "    </tr>\n",
       "    <tr>\n",
       "      <th>2022-01-02</th>\n",
       "      <td>-0.391342</td>\n",
       "      <td>-2.084955</td>\n",
       "      <td>0.968443</td>\n",
       "      <td>-0.852434</td>\n",
       "      <td>one</td>\n",
       "      <td>2.2</td>\n",
       "    </tr>\n",
       "    <tr>\n",
       "      <th>2022-01-03</th>\n",
       "      <td>-0.194256</td>\n",
       "      <td>0.862808</td>\n",
       "      <td>0.459097</td>\n",
       "      <td>0.109270</td>\n",
       "      <td>two</td>\n",
       "      <td>2.3</td>\n",
       "    </tr>\n",
       "    <tr>\n",
       "      <th>2022-01-04</th>\n",
       "      <td>0.847551</td>\n",
       "      <td>-0.158184</td>\n",
       "      <td>-0.032580</td>\n",
       "      <td>1.559263</td>\n",
       "      <td>three</td>\n",
       "      <td>3.3</td>\n",
       "    </tr>\n",
       "    <tr>\n",
       "      <th>2022-01-05</th>\n",
       "      <td>-1.022700</td>\n",
       "      <td>-0.939458</td>\n",
       "      <td>0.785812</td>\n",
       "      <td>-0.076403</td>\n",
       "      <td>four</td>\n",
       "      <td>3.4</td>\n",
       "    </tr>\n",
       "    <tr>\n",
       "      <th>2022-01-06</th>\n",
       "      <td>-0.194729</td>\n",
       "      <td>-2.234721</td>\n",
       "      <td>-0.197630</td>\n",
       "      <td>-0.754664</td>\n",
       "      <td>one</td>\n",
       "      <td>3.5</td>\n",
       "    </tr>\n",
       "  </tbody>\n",
       "</table>\n",
       "</div>"
      ],
      "text/plain": [
       "                   A         B         C         D      E  new\n",
       "2022-01-01 -0.582858  0.003849 -1.159810  0.619239    one  1.2\n",
       "2022-01-02 -0.391342 -2.084955  0.968443 -0.852434    one  2.2\n",
       "2022-01-03 -0.194256  0.862808  0.459097  0.109270    two  2.3\n",
       "2022-01-04  0.847551 -0.158184 -0.032580  1.559263  three  3.3\n",
       "2022-01-05 -1.022700 -0.939458  0.785812 -0.076403   four  3.4\n",
       "2022-01-06 -0.194729 -2.234721 -0.197630 -0.754664    one  3.5"
      ]
     },
     "execution_count": 92,
     "metadata": {},
     "output_type": "execute_result"
    }
   ],
   "source": [
    "del df2[\"mean\"]\n",
    "df2"
   ]
  },
  {
   "cell_type": "code",
   "execution_count": 93,
   "metadata": {},
   "outputs": [
    {
     "data": {
      "text/html": [
       "<div>\n",
       "<style scoped>\n",
       "    .dataframe tbody tr th:only-of-type {\n",
       "        vertical-align: middle;\n",
       "    }\n",
       "\n",
       "    .dataframe tbody tr th {\n",
       "        vertical-align: top;\n",
       "    }\n",
       "\n",
       "    .dataframe thead th {\n",
       "        text-align: right;\n",
       "    }\n",
       "</style>\n",
       "<table border=\"1\" class=\"dataframe\">\n",
       "  <thead>\n",
       "    <tr style=\"text-align: right;\">\n",
       "      <th></th>\n",
       "      <th>A</th>\n",
       "      <th>B</th>\n",
       "      <th>C</th>\n",
       "      <th>D</th>\n",
       "      <th>new</th>\n",
       "    </tr>\n",
       "  </thead>\n",
       "  <tbody>\n",
       "    <tr>\n",
       "      <th>2022-01-01</th>\n",
       "      <td>-0.582858</td>\n",
       "      <td>0.003849</td>\n",
       "      <td>-1.159810</td>\n",
       "      <td>0.619239</td>\n",
       "      <td>1.2</td>\n",
       "    </tr>\n",
       "    <tr>\n",
       "      <th>2022-01-02</th>\n",
       "      <td>-0.391342</td>\n",
       "      <td>-2.084955</td>\n",
       "      <td>0.968443</td>\n",
       "      <td>-0.852434</td>\n",
       "      <td>2.2</td>\n",
       "    </tr>\n",
       "    <tr>\n",
       "      <th>2022-01-03</th>\n",
       "      <td>-0.194256</td>\n",
       "      <td>0.862808</td>\n",
       "      <td>0.459097</td>\n",
       "      <td>0.109270</td>\n",
       "      <td>2.3</td>\n",
       "    </tr>\n",
       "    <tr>\n",
       "      <th>2022-01-04</th>\n",
       "      <td>0.847551</td>\n",
       "      <td>-0.158184</td>\n",
       "      <td>-0.032580</td>\n",
       "      <td>1.559263</td>\n",
       "      <td>3.3</td>\n",
       "    </tr>\n",
       "    <tr>\n",
       "      <th>2022-01-05</th>\n",
       "      <td>-1.022700</td>\n",
       "      <td>-0.939458</td>\n",
       "      <td>0.785812</td>\n",
       "      <td>-0.076403</td>\n",
       "      <td>3.4</td>\n",
       "    </tr>\n",
       "    <tr>\n",
       "      <th>2022-01-06</th>\n",
       "      <td>-0.194729</td>\n",
       "      <td>-2.234721</td>\n",
       "      <td>-0.197630</td>\n",
       "      <td>-0.754664</td>\n",
       "      <td>3.5</td>\n",
       "    </tr>\n",
       "  </tbody>\n",
       "</table>\n",
       "</div>"
      ],
      "text/plain": [
       "                   A         B         C         D  new\n",
       "2022-01-01 -0.582858  0.003849 -1.159810  0.619239  1.2\n",
       "2022-01-02 -0.391342 -2.084955  0.968443 -0.852434  2.2\n",
       "2022-01-03 -0.194256  0.862808  0.459097  0.109270  2.3\n",
       "2022-01-04  0.847551 -0.158184 -0.032580  1.559263  3.3\n",
       "2022-01-05 -1.022700 -0.939458  0.785812 -0.076403  3.4\n",
       "2022-01-06 -0.194729 -2.234721 -0.197630 -0.754664  3.5"
      ]
     },
     "execution_count": 93,
     "metadata": {},
     "output_type": "execute_result"
    }
   ],
   "source": [
    "df2 = df2.drop(columns=\"E\")\n",
    "df2"
   ]
  },
  {
   "cell_type": "code",
   "execution_count": 94,
   "metadata": {},
   "outputs": [
    {
     "data": {
      "text/plain": [
       "A     -0.256389\n",
       "B     -0.758444\n",
       "C      0.137222\n",
       "D      0.100712\n",
       "new    2.650000\n",
       "dtype: float64"
      ]
     },
     "execution_count": 94,
     "metadata": {},
     "output_type": "execute_result"
    }
   ],
   "source": [
    "df2.mean()"
   ]
  },
  {
   "cell_type": "code",
   "execution_count": 96,
   "metadata": {},
   "outputs": [
    {
     "data": {
      "text/html": [
       "<div>\n",
       "<style scoped>\n",
       "    .dataframe tbody tr th:only-of-type {\n",
       "        vertical-align: middle;\n",
       "    }\n",
       "\n",
       "    .dataframe tbody tr th {\n",
       "        vertical-align: top;\n",
       "    }\n",
       "\n",
       "    .dataframe thead th {\n",
       "        text-align: right;\n",
       "    }\n",
       "</style>\n",
       "<table border=\"1\" class=\"dataframe\">\n",
       "  <thead>\n",
       "    <tr style=\"text-align: right;\">\n",
       "      <th></th>\n",
       "      <th>A</th>\n",
       "      <th>B</th>\n",
       "      <th>C</th>\n",
       "      <th>D</th>\n",
       "      <th>new</th>\n",
       "      <th>mean</th>\n",
       "    </tr>\n",
       "  </thead>\n",
       "  <tbody>\n",
       "    <tr>\n",
       "      <th>2022-01-01</th>\n",
       "      <td>-0.582858</td>\n",
       "      <td>0.003849</td>\n",
       "      <td>-1.159810</td>\n",
       "      <td>0.619239</td>\n",
       "      <td>1.2</td>\n",
       "      <td>0.016084</td>\n",
       "    </tr>\n",
       "    <tr>\n",
       "      <th>2022-01-02</th>\n",
       "      <td>-0.391342</td>\n",
       "      <td>-2.084955</td>\n",
       "      <td>0.968443</td>\n",
       "      <td>-0.852434</td>\n",
       "      <td>2.2</td>\n",
       "      <td>-0.032058</td>\n",
       "    </tr>\n",
       "    <tr>\n",
       "      <th>2022-01-03</th>\n",
       "      <td>-0.194256</td>\n",
       "      <td>0.862808</td>\n",
       "      <td>0.459097</td>\n",
       "      <td>0.109270</td>\n",
       "      <td>2.3</td>\n",
       "      <td>0.707384</td>\n",
       "    </tr>\n",
       "    <tr>\n",
       "      <th>2022-01-04</th>\n",
       "      <td>0.847551</td>\n",
       "      <td>-0.158184</td>\n",
       "      <td>-0.032580</td>\n",
       "      <td>1.559263</td>\n",
       "      <td>3.3</td>\n",
       "      <td>1.103210</td>\n",
       "    </tr>\n",
       "    <tr>\n",
       "      <th>2022-01-05</th>\n",
       "      <td>-1.022700</td>\n",
       "      <td>-0.939458</td>\n",
       "      <td>0.785812</td>\n",
       "      <td>-0.076403</td>\n",
       "      <td>3.4</td>\n",
       "      <td>0.429450</td>\n",
       "    </tr>\n",
       "    <tr>\n",
       "      <th>2022-01-06</th>\n",
       "      <td>-0.194729</td>\n",
       "      <td>-2.234721</td>\n",
       "      <td>-0.197630</td>\n",
       "      <td>-0.754664</td>\n",
       "      <td>3.5</td>\n",
       "      <td>0.023651</td>\n",
       "    </tr>\n",
       "  </tbody>\n",
       "</table>\n",
       "</div>"
      ],
      "text/plain": [
       "                   A         B         C         D  new      mean\n",
       "2022-01-01 -0.582858  0.003849 -1.159810  0.619239  1.2  0.016084\n",
       "2022-01-02 -0.391342 -2.084955  0.968443 -0.852434  2.2 -0.032058\n",
       "2022-01-03 -0.194256  0.862808  0.459097  0.109270  2.3  0.707384\n",
       "2022-01-04  0.847551 -0.158184 -0.032580  1.559263  3.3  1.103210\n",
       "2022-01-05 -1.022700 -0.939458  0.785812 -0.076403  3.4  0.429450\n",
       "2022-01-06 -0.194729 -2.234721 -0.197630 -0.754664  3.5  0.023651"
      ]
     },
     "execution_count": 96,
     "metadata": {},
     "output_type": "execute_result"
    }
   ],
   "source": [
    "df2[\"mean\"] = df2.mean(axis=1)\n",
    "df2"
   ]
  },
  {
   "cell_type": "code",
   "execution_count": 97,
   "metadata": {},
   "outputs": [
    {
     "data": {
      "text/html": [
       "<div>\n",
       "<style scoped>\n",
       "    .dataframe tbody tr th:only-of-type {\n",
       "        vertical-align: middle;\n",
       "    }\n",
       "\n",
       "    .dataframe tbody tr th {\n",
       "        vertical-align: top;\n",
       "    }\n",
       "\n",
       "    .dataframe thead th {\n",
       "        text-align: right;\n",
       "    }\n",
       "</style>\n",
       "<table border=\"1\" class=\"dataframe\">\n",
       "  <thead>\n",
       "    <tr style=\"text-align: right;\">\n",
       "      <th></th>\n",
       "      <th>A</th>\n",
       "      <th>B</th>\n",
       "      <th>C</th>\n",
       "      <th>D</th>\n",
       "      <th>new</th>\n",
       "      <th>mean</th>\n",
       "      <th>std</th>\n",
       "    </tr>\n",
       "  </thead>\n",
       "  <tbody>\n",
       "    <tr>\n",
       "      <th>2022-01-01</th>\n",
       "      <td>-0.582858</td>\n",
       "      <td>0.003849</td>\n",
       "      <td>-1.159810</td>\n",
       "      <td>0.619239</td>\n",
       "      <td>1.2</td>\n",
       "      <td>0.016084</td>\n",
       "      <td>0.837504</td>\n",
       "    </tr>\n",
       "    <tr>\n",
       "      <th>2022-01-02</th>\n",
       "      <td>-0.391342</td>\n",
       "      <td>-2.084955</td>\n",
       "      <td>0.968443</td>\n",
       "      <td>-0.852434</td>\n",
       "      <td>2.2</td>\n",
       "      <td>-0.032058</td>\n",
       "      <td>1.483211</td>\n",
       "    </tr>\n",
       "    <tr>\n",
       "      <th>2022-01-03</th>\n",
       "      <td>-0.194256</td>\n",
       "      <td>0.862808</td>\n",
       "      <td>0.459097</td>\n",
       "      <td>0.109270</td>\n",
       "      <td>2.3</td>\n",
       "      <td>0.707384</td>\n",
       "      <td>0.870968</td>\n",
       "    </tr>\n",
       "    <tr>\n",
       "      <th>2022-01-04</th>\n",
       "      <td>0.847551</td>\n",
       "      <td>-0.158184</td>\n",
       "      <td>-0.032580</td>\n",
       "      <td>1.559263</td>\n",
       "      <td>3.3</td>\n",
       "      <td>1.103210</td>\n",
       "      <td>1.263358</td>\n",
       "    </tr>\n",
       "    <tr>\n",
       "      <th>2022-01-05</th>\n",
       "      <td>-1.022700</td>\n",
       "      <td>-0.939458</td>\n",
       "      <td>0.785812</td>\n",
       "      <td>-0.076403</td>\n",
       "      <td>3.4</td>\n",
       "      <td>0.429450</td>\n",
       "      <td>1.624173</td>\n",
       "    </tr>\n",
       "    <tr>\n",
       "      <th>2022-01-06</th>\n",
       "      <td>-0.194729</td>\n",
       "      <td>-2.234721</td>\n",
       "      <td>-0.197630</td>\n",
       "      <td>-0.754664</td>\n",
       "      <td>3.5</td>\n",
       "      <td>0.023651</td>\n",
       "      <td>1.891437</td>\n",
       "    </tr>\n",
       "  </tbody>\n",
       "</table>\n",
       "</div>"
      ],
      "text/plain": [
       "                   A         B         C         D  new      mean       std\n",
       "2022-01-01 -0.582858  0.003849 -1.159810  0.619239  1.2  0.016084  0.837504\n",
       "2022-01-02 -0.391342 -2.084955  0.968443 -0.852434  2.2 -0.032058  1.483211\n",
       "2022-01-03 -0.194256  0.862808  0.459097  0.109270  2.3  0.707384  0.870968\n",
       "2022-01-04  0.847551 -0.158184 -0.032580  1.559263  3.3  1.103210  1.263358\n",
       "2022-01-05 -1.022700 -0.939458  0.785812 -0.076403  3.4  0.429450  1.624173\n",
       "2022-01-06 -0.194729 -2.234721 -0.197630 -0.754664  3.5  0.023651  1.891437"
      ]
     },
     "execution_count": 97,
     "metadata": {},
     "output_type": "execute_result"
    }
   ],
   "source": [
    "df2[\"std\"] = df2.std(axis=1)\n",
    "df2"
   ]
  },
  {
   "cell_type": "code",
   "execution_count": 98,
   "metadata": {},
   "outputs": [
    {
     "data": {
      "text/html": [
       "<div>\n",
       "<style scoped>\n",
       "    .dataframe tbody tr th:only-of-type {\n",
       "        vertical-align: middle;\n",
       "    }\n",
       "\n",
       "    .dataframe tbody tr th {\n",
       "        vertical-align: top;\n",
       "    }\n",
       "\n",
       "    .dataframe thead th {\n",
       "        text-align: right;\n",
       "    }\n",
       "</style>\n",
       "<table border=\"1\" class=\"dataframe\">\n",
       "  <thead>\n",
       "    <tr style=\"text-align: right;\">\n",
       "      <th></th>\n",
       "      <th>A</th>\n",
       "      <th>B</th>\n",
       "      <th>C</th>\n",
       "      <th>D</th>\n",
       "      <th>new</th>\n",
       "      <th>mean</th>\n",
       "      <th>std</th>\n",
       "    </tr>\n",
       "  </thead>\n",
       "  <tbody>\n",
       "    <tr>\n",
       "      <th>count</th>\n",
       "      <td>6.000000</td>\n",
       "      <td>6.000000</td>\n",
       "      <td>6.000000</td>\n",
       "      <td>6.000000</td>\n",
       "      <td>6.000000</td>\n",
       "      <td>6.000000</td>\n",
       "      <td>6.000000</td>\n",
       "    </tr>\n",
       "    <tr>\n",
       "      <th>mean</th>\n",
       "      <td>-0.256389</td>\n",
       "      <td>-0.758444</td>\n",
       "      <td>0.137222</td>\n",
       "      <td>0.100712</td>\n",
       "      <td>2.650000</td>\n",
       "      <td>0.374620</td>\n",
       "      <td>1.328442</td>\n",
       "    </tr>\n",
       "    <tr>\n",
       "      <th>std</th>\n",
       "      <td>0.622635</td>\n",
       "      <td>1.228141</td>\n",
       "      <td>0.779545</td>\n",
       "      <td>0.901980</td>\n",
       "      <td>0.909395</td>\n",
       "      <td>0.460803</td>\n",
       "      <td>0.420217</td>\n",
       "    </tr>\n",
       "    <tr>\n",
       "      <th>min</th>\n",
       "      <td>-1.022700</td>\n",
       "      <td>-2.234721</td>\n",
       "      <td>-1.159810</td>\n",
       "      <td>-0.852434</td>\n",
       "      <td>1.200000</td>\n",
       "      <td>-0.032058</td>\n",
       "      <td>0.837504</td>\n",
       "    </tr>\n",
       "    <tr>\n",
       "      <th>25%</th>\n",
       "      <td>-0.534979</td>\n",
       "      <td>-1.798581</td>\n",
       "      <td>-0.156367</td>\n",
       "      <td>-0.585098</td>\n",
       "      <td>2.225000</td>\n",
       "      <td>0.017976</td>\n",
       "      <td>0.969065</td>\n",
       "    </tr>\n",
       "    <tr>\n",
       "      <th>50%</th>\n",
       "      <td>-0.293036</td>\n",
       "      <td>-0.548821</td>\n",
       "      <td>0.213258</td>\n",
       "      <td>0.016434</td>\n",
       "      <td>2.800000</td>\n",
       "      <td>0.226551</td>\n",
       "      <td>1.373284</td>\n",
       "    </tr>\n",
       "    <tr>\n",
       "      <th>75%</th>\n",
       "      <td>-0.194374</td>\n",
       "      <td>-0.036659</td>\n",
       "      <td>0.704133</td>\n",
       "      <td>0.491747</td>\n",
       "      <td>3.375000</td>\n",
       "      <td>0.637900</td>\n",
       "      <td>1.588933</td>\n",
       "    </tr>\n",
       "    <tr>\n",
       "      <th>max</th>\n",
       "      <td>0.847551</td>\n",
       "      <td>0.862808</td>\n",
       "      <td>0.968443</td>\n",
       "      <td>1.559263</td>\n",
       "      <td>3.500000</td>\n",
       "      <td>1.103210</td>\n",
       "      <td>1.891437</td>\n",
       "    </tr>\n",
       "  </tbody>\n",
       "</table>\n",
       "</div>"
      ],
      "text/plain": [
       "              A         B         C         D       new      mean       std\n",
       "count  6.000000  6.000000  6.000000  6.000000  6.000000  6.000000  6.000000\n",
       "mean  -0.256389 -0.758444  0.137222  0.100712  2.650000  0.374620  1.328442\n",
       "std    0.622635  1.228141  0.779545  0.901980  0.909395  0.460803  0.420217\n",
       "min   -1.022700 -2.234721 -1.159810 -0.852434  1.200000 -0.032058  0.837504\n",
       "25%   -0.534979 -1.798581 -0.156367 -0.585098  2.225000  0.017976  0.969065\n",
       "50%   -0.293036 -0.548821  0.213258  0.016434  2.800000  0.226551  1.373284\n",
       "75%   -0.194374 -0.036659  0.704133  0.491747  3.375000  0.637900  1.588933\n",
       "max    0.847551  0.862808  0.968443  1.559263  3.500000  1.103210  1.891437"
      ]
     },
     "execution_count": 98,
     "metadata": {},
     "output_type": "execute_result"
    }
   ],
   "source": [
    "df2.describe()"
   ]
  },
  {
   "cell_type": "code",
   "execution_count": 99,
   "metadata": {},
   "outputs": [
    {
     "data": {
      "text/html": [
       "<div>\n",
       "<style scoped>\n",
       "    .dataframe tbody tr th:only-of-type {\n",
       "        vertical-align: middle;\n",
       "    }\n",
       "\n",
       "    .dataframe tbody tr th {\n",
       "        vertical-align: top;\n",
       "    }\n",
       "\n",
       "    .dataframe thead th {\n",
       "        text-align: right;\n",
       "    }\n",
       "</style>\n",
       "<table border=\"1\" class=\"dataframe\">\n",
       "  <thead>\n",
       "    <tr style=\"text-align: right;\">\n",
       "      <th></th>\n",
       "      <th>A</th>\n",
       "      <th>B</th>\n",
       "      <th>C</th>\n",
       "      <th>D</th>\n",
       "      <th>new</th>\n",
       "      <th>mean</th>\n",
       "      <th>std</th>\n",
       "    </tr>\n",
       "  </thead>\n",
       "  <tbody>\n",
       "    <tr>\n",
       "      <th>2022-01-01</th>\n",
       "      <td>-0.582858</td>\n",
       "      <td>0.003849</td>\n",
       "      <td>-1.159810</td>\n",
       "      <td>0.619239</td>\n",
       "      <td>1.2</td>\n",
       "      <td>0.016084</td>\n",
       "      <td>0.837504</td>\n",
       "    </tr>\n",
       "    <tr>\n",
       "      <th>2022-01-02</th>\n",
       "      <td>-0.391342</td>\n",
       "      <td>-2.084955</td>\n",
       "      <td>0.968443</td>\n",
       "      <td>-0.852434</td>\n",
       "      <td>2.2</td>\n",
       "      <td>-0.032058</td>\n",
       "      <td>1.483211</td>\n",
       "    </tr>\n",
       "    <tr>\n",
       "      <th>2022-01-03</th>\n",
       "      <td>-0.194256</td>\n",
       "      <td>0.862808</td>\n",
       "      <td>0.459097</td>\n",
       "      <td>0.109270</td>\n",
       "      <td>2.3</td>\n",
       "      <td>0.707384</td>\n",
       "      <td>0.870968</td>\n",
       "    </tr>\n",
       "    <tr>\n",
       "      <th>2022-01-04</th>\n",
       "      <td>0.847551</td>\n",
       "      <td>-0.158184</td>\n",
       "      <td>-0.032580</td>\n",
       "      <td>1.559263</td>\n",
       "      <td>3.3</td>\n",
       "      <td>1.103210</td>\n",
       "      <td>1.263358</td>\n",
       "    </tr>\n",
       "    <tr>\n",
       "      <th>2022-01-05</th>\n",
       "      <td>-1.022700</td>\n",
       "      <td>-0.939458</td>\n",
       "      <td>0.785812</td>\n",
       "      <td>-0.076403</td>\n",
       "      <td>3.4</td>\n",
       "      <td>0.429450</td>\n",
       "      <td>1.624173</td>\n",
       "    </tr>\n",
       "    <tr>\n",
       "      <th>2022-01-06</th>\n",
       "      <td>-0.194729</td>\n",
       "      <td>-2.234721</td>\n",
       "      <td>-0.197630</td>\n",
       "      <td>-0.754664</td>\n",
       "      <td>3.5</td>\n",
       "      <td>0.023651</td>\n",
       "      <td>1.891437</td>\n",
       "    </tr>\n",
       "  </tbody>\n",
       "</table>\n",
       "</div>"
      ],
      "text/plain": [
       "                   A         B         C         D  new      mean       std\n",
       "2022-01-01 -0.582858  0.003849 -1.159810  0.619239  1.2  0.016084  0.837504\n",
       "2022-01-02 -0.391342 -2.084955  0.968443 -0.852434  2.2 -0.032058  1.483211\n",
       "2022-01-03 -0.194256  0.862808  0.459097  0.109270  2.3  0.707384  0.870968\n",
       "2022-01-04  0.847551 -0.158184 -0.032580  1.559263  3.3  1.103210  1.263358\n",
       "2022-01-05 -1.022700 -0.939458  0.785812 -0.076403  3.4  0.429450  1.624173\n",
       "2022-01-06 -0.194729 -2.234721 -0.197630 -0.754664  3.5  0.023651  1.891437"
      ]
     },
     "execution_count": 99,
     "metadata": {},
     "output_type": "execute_result"
    }
   ],
   "source": [
    "df2"
   ]
  },
  {
   "cell_type": "code",
   "execution_count": 104,
   "metadata": {},
   "outputs": [
    {
     "data": {
      "text/plain": [
       "-0.8524338690180518"
      ]
     },
     "execution_count": 104,
     "metadata": {},
     "output_type": "execute_result"
    }
   ],
   "source": [
    "#iloc\n",
    "#loc\n",
    "\n",
    "df2.loc['2022-01-02','D']"
   ]
  },
  {
   "cell_type": "code",
   "execution_count": 100,
   "metadata": {},
   "outputs": [
    {
     "data": {
      "text/plain": [
       "DatetimeIndex(['2022-01-01', '2022-01-02', '2022-01-03', '2022-01-04',\n",
       "               '2022-01-05', '2022-01-06'],\n",
       "              dtype='datetime64[ns]', freq='D')"
      ]
     },
     "execution_count": 100,
     "metadata": {},
     "output_type": "execute_result"
    }
   ],
   "source": [
    "df2.index"
   ]
  },
  {
   "cell_type": "code",
   "execution_count": null,
   "metadata": {},
   "outputs": [],
   "source": []
  }
 ],
 "metadata": {
  "interpreter": {
   "hash": "a8d3fa0f4232f9799456eab2ca0ccdfcae5ec3da6c067a643e17963cf6f24f3a"
  },
  "kernelspec": {
   "display_name": "Python 3 (ipykernel)",
   "language": "python",
   "name": "python3"
  },
  "language_info": {
   "codemirror_mode": {
    "name": "ipython",
    "version": 3
   },
   "file_extension": ".py",
   "mimetype": "text/x-python",
   "name": "python",
   "nbconvert_exporter": "python",
   "pygments_lexer": "ipython3",
   "version": "3.10.1"
  }
 },
 "nbformat": 4,
 "nbformat_minor": 2
}
